{
 "cells": [
  {
   "cell_type": "code",
   "execution_count": 1,
   "metadata": {},
   "outputs": [
    {
     "name": "stdout",
     "output_type": "stream",
     "text": [
      "Text extracted and saved to input/096500-Resilient-Flooring-Rev 01-230310.txt\n"
     ]
    }
   ],
   "source": [
    "import os\n",
    "from azure.ai.formrecognizer import DocumentAnalysisClient\n",
    "from azure.core.credentials import AzureKeyCredential\n",
    "\n",
    "# Set up your Azure credentials and endpoint\n",
    "\n",
    "endpoint = \"https://eastus.api.cognitive.microsoft.com/\"\n",
    "key = \"711a8a1fcf204210aea2ad04b5b1669e\"\n",
    " \n",
    "\n",
    "# Initialize DocumentAnalysisClient\n",
    "document_analysis_client = DocumentAnalysisClient(\n",
    "    endpoint=endpoint, credential=AzureKeyCredential(key)\n",
    ")\n",
    "\n",
    "def extract_text_from_image_pdf(document_path, output_txt_path):\n",
    "    # Open the document file\n",
    "    with open(document_path, \"rb\") as document:\n",
    "        # Using the prebuilt-read model for OCR\n",
    "        poller = document_analysis_client.begin_analyze_document(\n",
    "            model_id=\"prebuilt-read\", document=document\n",
    "        )\n",
    "        result = poller.result()\n",
    "\n",
    "    # Write extracted text to a .txt file\n",
    "    with open(output_txt_path, \"w\", encoding=\"utf-8\") as txt_file:\n",
    "        for page in result.pages:\n",
    "            txt_file.write(f\"---- Page {page.page_number} ----\\n\")\n",
    "            for line in page.lines:\n",
    "                txt_file.write(f\"{line.content}\\n\")\n",
    "\n",
    "    print(f\"Text extracted and saved to {output_txt_path}\")\n",
    "\n",
    "# Path to your document file\n",
    "document_path = \"093000-Tiling-Rev 01-230310.pdf\"\n",
    "\n",
    "# Path to save the extracted text in a .txt file\n",
    "output_txt_path = \"input/093000-Tiling-Rev 01-230310.txt\"\n",
    "\n",
    "# Call the function to extract text and save it to a .txt file\n",
    "extract_text_from_image_pdf(document_path, output_txt_path)\n"
   ]
  },
  {
   "cell_type": "code",
   "execution_count": null,
   "metadata": {},
   "outputs": [],
   "source": []
  }
 ],
 "metadata": {
  "kernelspec": {
   "display_name": "Python 3",
   "language": "python",
   "name": "python3"
  },
  "language_info": {
   "codemirror_mode": {
    "name": "ipython",
    "version": 3
   },
   "file_extension": ".py",
   "mimetype": "text/x-python",
   "name": "python",
   "nbconvert_exporter": "python",
   "pygments_lexer": "ipython3",
   "version": "3.12.7"
  }
 },
 "nbformat": 4,
 "nbformat_minor": 2
}
