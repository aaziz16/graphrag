{
 "cells": [
  {
   "cell_type": "code",
   "execution_count": 3,
   "metadata": {},
   "outputs": [
    {
     "name": "stdout",
     "output_type": "stream",
     "text": [
      "Text extracted and saved to input/revised_gupsum.txt\n"
     ]
    }
   ],
   "source": [
    "import os\n",
    "from azure.ai.formrecognizer import DocumentAnalysisClient\n",
    "from azure.core.credentials import AzureKeyCredential\n",
    "\n",
    "# Set up your Azure credentials and endpoint\n",
    "\n",
    "endpoint = \"https://eastus.api.cognitive.microsoft.com/\"\n",
    "key = \"711a8a1fcf204210aea2ad04b5b1669e\"\n",
    " \n",
    "\n",
    "# Initialize DocumentAnalysisClient\n",
    "document_analysis_client = DocumentAnalysisClient(\n",
    "    endpoint=endpoint, credential=AzureKeyCredential(key)\n",
    ")\n",
    "\n",
    "def extract_text_from_image_pdf(document_path, output_txt_path):\n",
    "    # Open the document file\n",
    "    with open(document_path, \"rb\") as document:\n",
    "        # Using the prebuilt-read model for OCR\n",
    "        poller = document_analysis_client.begin_analyze_document(\n",
    "            model_id=\"prebuilt-read\", document=document\n",
    "        )\n",
    "        result = poller.result()\n",
    "\n",
    "    # Write extracted text to a .txt file\n",
    "    with open(output_txt_path, \"w\", encoding=\"utf-8\") as txt_file:\n",
    "        for page in result.pages:\n",
    "            txt_file.write(f\"---- Page {page.page_number} ----\\n\")\n",
    "            for line in page.lines:\n",
    "                txt_file.write(f\"{line.content}\\n\")\n",
    "\n",
    "    print(f\"Text extracted and saved to {output_txt_path}\")\n",
    "\n",
    "# Path to your document file\n",
    "document_path = \"revised_gupsum.pdf\"\n",
    "# diesl-graph\\classical_graphrag\\092116-Gypsum-Board-Assemblies-Rev 01-230310.pdf\n",
    "# Path to save the extracted text in a .txt file\n",
    "output_txt_path = \"input/revised_gupsum.txt\"\n",
    "\n",
    "# Call the function to extract text and save it to a .txt file\n",
    "extract_text_from_image_pdf(document_path, output_txt_path)\n"
   ]
  },
  {
   "cell_type": "code",
   "execution_count": 2,
   "metadata": {},
   "outputs": [
    {
     "name": "stdout",
     "output_type": "stream",
     "text": [
      "Collecting azure-ai-formrecognizer\n",
      "  Downloading azure_ai_formrecognizer-3.3.3-py3-none-any.whl.metadata (64 kB)\n",
      "Requirement already satisfied: azure-core>=1.23.0 in c:\\users\\aziz1\\appdata\\local\\programs\\python\\python312\\lib\\site-packages (from azure-ai-formrecognizer) (1.31.0)\n",
      "Requirement already satisfied: msrest>=0.6.21 in c:\\users\\aziz1\\appdata\\local\\programs\\python\\python312\\lib\\site-packages (from azure-ai-formrecognizer) (0.7.1)\n",
      "Requirement already satisfied: azure-common>=1.1 in c:\\users\\aziz1\\appdata\\local\\programs\\python\\python312\\lib\\site-packages (from azure-ai-formrecognizer) (1.1.28)\n",
      "Requirement already satisfied: typing-extensions>=4.0.1 in c:\\users\\aziz1\\appdata\\local\\programs\\python\\python312\\lib\\site-packages (from azure-ai-formrecognizer) (4.12.2)\n",
      "Requirement already satisfied: requests>=2.21.0 in c:\\users\\aziz1\\appdata\\local\\programs\\python\\python312\\lib\\site-packages (from azure-core>=1.23.0->azure-ai-formrecognizer) (2.32.3)\n",
      "Requirement already satisfied: six>=1.11.0 in c:\\users\\aziz1\\appdata\\roaming\\python\\python312\\site-packages (from azure-core>=1.23.0->azure-ai-formrecognizer) (1.16.0)\n",
      "Requirement already satisfied: certifi>=2017.4.17 in c:\\users\\aziz1\\appdata\\local\\programs\\python\\python312\\lib\\site-packages (from msrest>=0.6.21->azure-ai-formrecognizer) (2024.8.30)\n",
      "Requirement already satisfied: isodate>=0.6.0 in c:\\users\\aziz1\\appdata\\local\\programs\\python\\python312\\lib\\site-packages (from msrest>=0.6.21->azure-ai-formrecognizer) (0.7.2)\n",
      "Requirement already satisfied: requests-oauthlib>=0.5.0 in c:\\users\\aziz1\\appdata\\local\\programs\\python\\python312\\lib\\site-packages (from msrest>=0.6.21->azure-ai-formrecognizer) (2.0.0)\n",
      "Requirement already satisfied: charset-normalizer<4,>=2 in c:\\users\\aziz1\\appdata\\local\\programs\\python\\python312\\lib\\site-packages (from requests>=2.21.0->azure-core>=1.23.0->azure-ai-formrecognizer) (3.4.0)\n",
      "Requirement already satisfied: idna<4,>=2.5 in c:\\users\\aziz1\\appdata\\local\\programs\\python\\python312\\lib\\site-packages (from requests>=2.21.0->azure-core>=1.23.0->azure-ai-formrecognizer) (3.10)\n",
      "Requirement already satisfied: urllib3<3,>=1.21.1 in c:\\users\\aziz1\\appdata\\local\\programs\\python\\python312\\lib\\site-packages (from requests>=2.21.0->azure-core>=1.23.0->azure-ai-formrecognizer) (2.2.3)\n",
      "Requirement already satisfied: oauthlib>=3.0.0 in c:\\users\\aziz1\\appdata\\local\\programs\\python\\python312\\lib\\site-packages (from requests-oauthlib>=0.5.0->msrest>=0.6.21->azure-ai-formrecognizer) (3.2.2)\n",
      "Downloading azure_ai_formrecognizer-3.3.3-py3-none-any.whl (301 kB)\n",
      "Installing collected packages: azure-ai-formrecognizer\n",
      "Successfully installed azure-ai-formrecognizer-3.3.3\n"
     ]
    }
   ],
   "source": [
    "!pip install azure-ai-formrecognizer"
   ]
  },
  {
   "cell_type": "code",
   "execution_count": null,
   "metadata": {},
   "outputs": [],
   "source": []
  }
 ],
 "metadata": {
  "kernelspec": {
   "display_name": "Python 3",
   "language": "python",
   "name": "python3"
  },
  "language_info": {
   "codemirror_mode": {
    "name": "ipython",
    "version": 3
   },
   "file_extension": ".py",
   "mimetype": "text/x-python",
   "name": "python",
   "nbconvert_exporter": "python",
   "pygments_lexer": "ipython3",
   "version": "3.12.7"
  }
 },
 "nbformat": 4,
 "nbformat_minor": 2
}
